{
 "cells": [
  {
   "cell_type": "markdown",
   "id": "59711420",
   "metadata": {},
   "source": [
    "\n",
    " # Valorant Masters Toronto 2025 Player Statistics Scraper\n",
    " This script scrapes player statistics from the Valorant Masters Toronto 2025 event page on vlr.gg, processes the data, and saves it to a CSV file."
   ]
  },
  {
   "cell_type": "code",
   "execution_count": 11,
   "id": "d544a953",
   "metadata": {},
   "outputs": [],
   "source": [
    "import urllib.request  # For fetching the webpage content\n",
    "from bs4 import BeautifulSoup  # For parsing HTML content\n",
    "import csv\n",
    "import os"
   ]
  },
  {
   "cell_type": "code",
   "execution_count": 12,
   "id": "b6c53513",
   "metadata": {},
   "outputs": [],
   "source": [
    "# Helper functions\n",
    "def clean_text(text):\n",
    "    \"\"\"Remove unwanted characters and extra whitespace from text.\"\"\"\n",
    "    return ' '.join(text.strip().split())"
   ]
  },
  {
   "cell_type": "code",
   "execution_count": 13,
   "id": "6a7d4835",
   "metadata": {},
   "outputs": [],
   "source": [
    "vct_toronto_2025_url = \"https://www.vlr.gg/event/stats/2282/valorant-masters-toronto-2025?exclude=32232&min_rounds=0&agent=all\"\n",
    "main_table_classname = \"wf-table mod-stats mod-scroll\""
   ]
  },
  {
   "cell_type": "code",
   "execution_count": 15,
   "id": "613e4e34",
   "metadata": {},
   "outputs": [],
   "source": [
    "contents = urllib.request.urlopen(vct_toronto_2025_url).read()\n",
    "soup = BeautifulSoup(contents, \"html.parser\")\n",
    "stats_table = soup.find(\"table\", {\"class\": main_table_classname})\n",
    "rows = stats_table.find_all('tr')"
   ]
  },
  {
   "cell_type": "code",
   "execution_count": null,
   "id": "a027c75f",
   "metadata": {},
   "outputs": [],
   "source": []
  },
  {
   "cell_type": "code",
   "execution_count": null,
   "id": "aa7974d8",
   "metadata": {},
   "outputs": [],
   "source": []
  },
  {
   "cell_type": "code",
   "execution_count": 5,
   "id": "63fbf2d7",
   "metadata": {},
   "outputs": [],
   "source": [
    "# Data Matrix\n",
    "players_stat_mat = []\n",
    "headers_raw = rows[0]\n",
    "headers = headers_raw.find_all('th')\n",
    "header_list = [clean_text(header.text) for header in headers]  # Clean header text\n",
    "# Insert 'Team' column header after 'Player'\n",
    "header_list.insert(1, 'Team')\n",
    "players_stat_mat.append(header_list)"
   ]
  },
  {
   "cell_type": "code",
   "execution_count": 6,
   "id": "ccdd6b29",
   "metadata": {},
   "outputs": [],
   "source": [
    "for idx, row in enumerate(rows[1:]):\n",
    "    # if idx != 0:\n",
    "        # continue\n",
    "    tds = row.find_all(\"td\")  # Get all table cells in the row\n",
    "    data = []\n",
    "    for td in tds:\n",
    "        if \"class\" in td.attrs:\n",
    "            # Handle player name and team\n",
    "            if \"mod-player\" in td[\"class\"]:\n",
    "                name_and_team = td.get_text(\",\", True).split(\",\")\n",
    "                for ele in name_and_team:\n",
    "                    data.append(clean_text(ele))\n",
    "                continue\n",
    "\n",
    "            # Handle agent icons\n",
    "            elif \"mod-agents\" in td[\"class\"]:\n",
    "                algs = td.find_all(\"img\")\n",
    "                agnts = [a[\"src\"].split(\"/\")[-1][:-4] for a in algs]  # Extract agent names from image URLs\n",
    "                data.append(agnts)  # Append agent list\n",
    "                continue\n",
    "        \n",
    "        # Handle other statistics\n",
    "        data.append(clean_text(td.text))\n",
    "    \n",
    "    players_stat_mat.append(data)  # Append processed row to matrix"
   ]
  },
  {
   "cell_type": "code",
   "execution_count": 7,
   "id": "69f67114",
   "metadata": {},
   "outputs": [],
   "source": [
    "parent_dir = os.path.dirname(os.getcwd())\n",
    "file_path = os.path.join(parent_dir, 'dataset', 'vct_toronto_2025', 'player_stats.csv')\n",
    "os.makedirs(os.path.dirname(file_path), exist_ok=True)\n",
    "\n",
    "# Write to CSV\n",
    "with open(file_path, 'a+', newline='') as csvfile:\n",
    "    writer = csv.writer(csvfile)\n",
    "    writer.writerows(players_stat_mat)"
   ]
  },
  {
   "cell_type": "code",
   "execution_count": 10,
   "id": "ad35322f",
   "metadata": {},
   "outputs": [
    {
     "name": "stdout",
     "output_type": "stream",
     "text": [
      "Total Rows affected: 61\n"
     ]
    }
   ],
   "source": [
    "print(f'Total Rows affected: {len(players_stat_mat)-1}' )"
   ]
  }
 ],
 "metadata": {
  "kernelspec": {
   "display_name": ".venv",
   "language": "python",
   "name": "python3"
  },
  "language_info": {
   "codemirror_mode": {
    "name": "ipython",
    "version": 3
   },
   "file_extension": ".py",
   "mimetype": "text/x-python",
   "name": "python",
   "nbconvert_exporter": "python",
   "pygments_lexer": "ipython3",
   "version": "3.9.6"
  }
 },
 "nbformat": 4,
 "nbformat_minor": 5
}
